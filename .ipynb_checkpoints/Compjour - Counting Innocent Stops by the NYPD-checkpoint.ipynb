{
 "cells": [
  {
   "cell_type": "markdown",
   "metadata": {},
   "source": [
    "[Link to tutorial](http://www.compjour.org/warmups/stops-and-frisks/counting-innocent-nypd-stops/)"
   ]
  },
  {
   "cell_type": "code",
   "execution_count": 22,
   "metadata": {
    "collapsed": false
   },
   "outputs": [],
   "source": [
    "import requests\n",
    "from os import makedirs\n",
    "from os.path import join\n",
    "from shutil import unpack_archive\n",
    "from glob import glob\n",
    "from csv import DictReader\n",
    "\n",
    "%matplotlib inline\n",
    "import pandas as pd\n",
    "import matplotlib.pyplot as plt\n",
    "import numpy as np"
   ]
  },
  {
   "cell_type": "markdown",
   "metadata": {},
   "source": [
    "# Download and Unzip"
   ]
  },
  {
   "cell_type": "code",
   "execution_count": 23,
   "metadata": {
    "collapsed": false
   },
   "outputs": [],
   "source": [
    "years = []\n",
    "for yr in range (2003, 2016):\n",
    "    year = str(yr)\n",
    "    years.append(year)\n",
    "    URL = 'http://www.nyc.gov/html/nypd/downloads/zip/analysis_and_planning/' + year + '_sqf_csv.zip'\n",
    "    \n",
    "    data_dir = join('mydata', 'fetched', year)\n",
    "    makedirs(data_dir, exist_ok =True)\n",
    "    \n",
    "    zip_fname = join(data_dir, year + '.zip')\n",
    "    \n",
    "    resp = requests.get(URL)\n",
    "    \n",
    "    with open (zip_fname, 'wb') as z:\n",
    "        z.write(resp.content)\n",
    "        \n",
    "    unpack_archive(zip_fname, extract_dir=data_dir)\n",
    "    "
   ]
  },
  {
   "cell_type": "markdown",
   "metadata": {},
   "source": [
    "# Analysis"
   ]
  },
  {
   "cell_type": "code",
   "execution_count": 44,
   "metadata": {
    "collapsed": false
   },
   "outputs": [
    {
     "name": "stdout",
     "output_type": "stream",
     "text": [
      "['2003', '2004', '2005', '2006', '2007', '2008', '2009', '2010', '2011', '2012', '2013', '2014', '2015']\n",
      "[160851, 313523, 398191, 506491, 472096, 540302, 581168, 601285, 685724, 532911, 191851, 45787, 22563]\n",
      "[20409, 34590, 45843, 49328, 61160, 65915, 70426, 82436, 80396, 59267, 22189, 8043, 4497]\n",
      "[140442, 278933, 352348, 457163, 410936, 474387, 510742, 518849, 605328, 473644, 169662, 37744, 18066]\n"
     ]
    }
   ],
   "source": [
    "total_stops = []\n",
    "actions_taken = []\n",
    "innocents = []\n",
    "years.sort()\n",
    "\n",
    "data_path = join('mydata', 'fetched')\n",
    "\n",
    "for y in years:\n",
    "    \n",
    "    csv_fname = join(data_path, y + '\\\\' + y + '.csv')\n",
    "        \n",
    "    with open(csv_fname, 'r', encoding='latin-1') as rf:\n",
    "        datarows = list(DictReader(rf))\n",
    "        \n",
    "        total = len(datarows)\n",
    "        total_stops.append(total)\n",
    "        \n",
    "        actions = 0\n",
    "        for d in datarows:\n",
    "            if d['arstmade'] == 'Y' or d['sumissue'] == 'Y':\n",
    "                actions +=1\n",
    "        actions_taken.append(actions)\n",
    "        \n",
    "        innocent_actions = total - actions\n",
    "        innocents.append(innocent_actions)\n",
    "print(years)\n",
    "print(total_stops)\n",
    "print(actions_taken)\n",
    "print(innocents)"
   ]
  },
  {
   "cell_type": "markdown",
   "metadata": {},
   "source": [
    "# Visualization"
   ]
  },
  {
   "cell_type": "code",
   "execution_count": 52,
   "metadata": {
    "collapsed": false
   },
   "outputs": [
    {
     "data": {
      "text/html": [
       "<div>\n",
       "<table border=\"1\" class=\"dataframe\">\n",
       "  <thead>\n",
       "    <tr style=\"text-align: right;\">\n",
       "      <th></th>\n",
       "      <th>actions_taken</th>\n",
       "      <th>innocents</th>\n",
       "      <th>years</th>\n",
       "    </tr>\n",
       "  </thead>\n",
       "  <tbody>\n",
       "    <tr>\n",
       "      <th>0</th>\n",
       "      <td>20409</td>\n",
       "      <td>140442</td>\n",
       "      <td>2003</td>\n",
       "    </tr>\n",
       "    <tr>\n",
       "      <th>1</th>\n",
       "      <td>34590</td>\n",
       "      <td>278933</td>\n",
       "      <td>2004</td>\n",
       "    </tr>\n",
       "    <tr>\n",
       "      <th>2</th>\n",
       "      <td>45843</td>\n",
       "      <td>352348</td>\n",
       "      <td>2005</td>\n",
       "    </tr>\n",
       "    <tr>\n",
       "      <th>3</th>\n",
       "      <td>49328</td>\n",
       "      <td>457163</td>\n",
       "      <td>2006</td>\n",
       "    </tr>\n",
       "    <tr>\n",
       "      <th>4</th>\n",
       "      <td>61160</td>\n",
       "      <td>410936</td>\n",
       "      <td>2007</td>\n",
       "    </tr>\n",
       "    <tr>\n",
       "      <th>5</th>\n",
       "      <td>65915</td>\n",
       "      <td>474387</td>\n",
       "      <td>2008</td>\n",
       "    </tr>\n",
       "    <tr>\n",
       "      <th>6</th>\n",
       "      <td>70426</td>\n",
       "      <td>510742</td>\n",
       "      <td>2009</td>\n",
       "    </tr>\n",
       "    <tr>\n",
       "      <th>7</th>\n",
       "      <td>82436</td>\n",
       "      <td>518849</td>\n",
       "      <td>2010</td>\n",
       "    </tr>\n",
       "    <tr>\n",
       "      <th>8</th>\n",
       "      <td>80396</td>\n",
       "      <td>605328</td>\n",
       "      <td>2011</td>\n",
       "    </tr>\n",
       "    <tr>\n",
       "      <th>9</th>\n",
       "      <td>59267</td>\n",
       "      <td>473644</td>\n",
       "      <td>2012</td>\n",
       "    </tr>\n",
       "    <tr>\n",
       "      <th>10</th>\n",
       "      <td>22189</td>\n",
       "      <td>169662</td>\n",
       "      <td>2013</td>\n",
       "    </tr>\n",
       "    <tr>\n",
       "      <th>11</th>\n",
       "      <td>8043</td>\n",
       "      <td>37744</td>\n",
       "      <td>2014</td>\n",
       "    </tr>\n",
       "    <tr>\n",
       "      <th>12</th>\n",
       "      <td>4497</td>\n",
       "      <td>18066</td>\n",
       "      <td>2015</td>\n",
       "    </tr>\n",
       "  </tbody>\n",
       "</table>\n",
       "</div>"
      ],
      "text/plain": [
       "    actions_taken  innocents years\n",
       "0           20409     140442  2003\n",
       "1           34590     278933  2004\n",
       "2           45843     352348  2005\n",
       "3           49328     457163  2006\n",
       "4           61160     410936  2007\n",
       "5           65915     474387  2008\n",
       "6           70426     510742  2009\n",
       "7           82436     518849  2010\n",
       "8           80396     605328  2011\n",
       "9           59267     473644  2012\n",
       "10          22189     169662  2013\n",
       "11           8043      37744  2014\n",
       "12           4497      18066  2015"
      ]
     },
     "execution_count": 52,
     "metadata": {},
     "output_type": "execute_result"
    }
   ],
   "source": [
    "years = pd.Series(years)\n",
    "actions_taken = pd.Series(actions_taken)\n",
    "innocents = pd.Series(innocents)\n",
    "\n",
    "df = pd.DataFrame({'years': years,'actions_taken':actions_taken,'innocents':innocents})\n",
    "df"
   ]
  },
  {
   "cell_type": "code",
   "execution_count": 66,
   "metadata": {
    "collapsed": false
   },
   "outputs": [
    {
     "data": {
      "text/plain": [
       "(0.625, 14.125)"
      ]
     },
     "execution_count": 66,
     "metadata": {},
     "output_type": "execute_result"
    },
    {
     "data": {
      "image/png": "[encoded data removed]",
      "text/plain": [
       "<matplotlib.figure.Figure at 0x1f08121b048>"
      ]
     },
     "metadata": {},
     "output_type": "display_data"
    }
   ],
   "source": [
    "f, ax1 = plt.subplots(1, figsize=(10,5))\n",
    "bar_width = 0.75\n",
    "bar_l = [i+1 for i in range(len(df['innocents']))]\n",
    "tick_pos = [i+(bar_width/2) for i in bar_l] \n",
    "\n",
    "ax1.bar(bar_l, \n",
    "        # using the pre_score data\n",
    "        df['innocents'], \n",
    "        width=bar_width,\n",
    "        label='Innocents', \n",
    "        alpha=0.5, \n",
    "        # with color\n",
    "        color='#028090')\n",
    "\n",
    "ax1.bar(bar_l, \n",
    "        df['actions_taken'], \n",
    "        width=bar_width,\n",
    "        bottom=df['innocents'], \n",
    "        label='Actions Taken', \n",
    "        alpha=0.5, \n",
    "        color='#F45B69')\n",
    "\n",
    "# set the x ticks with names\n",
    "plt.xticks(tick_pos, df['years'])\n",
    "\n",
    "\n",
    "# Set the label and legends\n",
    "ax1.set_ylabel('Total Stops')\n",
    "ax1.set_xlabel(\"Year\")\n",
    "plt.legend(loc='upper left')\n",
    "\n",
    "\n",
    "# Set a buffer around the edge\n",
    "plt.xlim([min(tick_pos)-bar_width, max(tick_pos)+bar_width])"
   ]
  },
  {
   "cell_type": "code",
   "execution_count": null,
   "metadata": {
    "collapsed": true
   },
   "outputs": [],
   "source": []
  }
 ],
 "metadata": {
  "anaconda-cloud": {},
  "kernelspec": {
   "display_name": "Python [Root]",
   "language": "python",
   "name": "Python [Root]"
  },
  "language_info": {
   "codemirror_mode": {
    "name": "ipython",
    "version": 3
   },
   "file_extension": ".py",
   "mimetype": "text/x-python",
   "name": "python",
   "nbconvert_exporter": "python",
   "pygments_lexer": "ipython3",
   "version": "3.5.2"
  }
 },
 "nbformat": 4,
 "nbformat_minor": 0
}
