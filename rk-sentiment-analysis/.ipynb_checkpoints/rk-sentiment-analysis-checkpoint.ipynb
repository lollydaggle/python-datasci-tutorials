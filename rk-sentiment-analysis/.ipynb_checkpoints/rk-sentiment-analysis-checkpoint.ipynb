{
 "cells": [
  {
   "cell_type": "code",
   "execution_count": 2,
   "metadata": {
    "collapsed": false
   },
   "outputs": [],
   "source": [
    "import matplotlib as plt\n",
    "import seaborn as sns\n",
    "import requests\n",
    "import spotipy\n",
    "import pandas as pd\n",
    "from nltk.corpus import stopwords\n",
    "from bs4 import BeautifulSoup\n",
    "\n",
    "%matplotlib inline\n",
    "\n",
    "pd.options.mode.chained_assignment = None "
   ]
  },
  {
   "cell_type": "code",
   "execution_count": 3,
   "metadata": {
    "collapsed": false
   },
   "outputs": [],
   "source": [
    "sns.set(style=\"whitegrid\", color_codes=True)"
   ]
  },
  {
   "cell_type": "markdown",
   "metadata": {},
   "source": [
    "# API ACCESS"
   ]
  },
  {
   "cell_type": "code",
   "execution_count": 4,
   "metadata": {
    "collapsed": true
   },
   "outputs": [],
   "source": [
    "GENIUS_TOKEN = \"L6YF257yrVzdH4y9etlQX_9ZoxOCjHnITwnE6RdB3lyYP3LzmkRqreWENZTWxTDq\"\n",
    "GENIUS_URI = \"https://api.genius.com\"\n",
    "spotify = spotipy.Spotify()"
   ]
  },
  {
   "cell_type": "markdown",
   "metadata": {},
   "source": [
    "# ARTIST ID "
   ]
  },
  {
   "cell_type": "code",
   "execution_count": 5,
   "metadata": {
    "collapsed": true
   },
   "outputs": [],
   "source": [
    "spotArtistID = ['2cevwbv7ISD92VMNLYLHZA','5cMVRrisBpDkXCVG48epED','2jT6aBupO5X5ybwUsjzws4']\n",
    "geniusArtistID = [51488, 206882, 359334]"
   ]
  },
  {
   "cell_type": "markdown",
   "metadata": {},
   "source": [
    "# FUNCTIONS"
   ]
  },
  {
   "cell_type": "markdown",
   "metadata": {},
   "source": [
    "## SPOTIFY"
   ]
  },
  {
   "cell_type": "code",
   "execution_count": 6,
   "metadata": {
    "collapsed": false
   },
   "outputs": [],
   "source": [
    "def spotify_info():\n",
    "    track_list = []\n",
    "    for i in spotArtistID:\n",
    "        \n",
    "        SPOT_URI = \"spotify:artist:{}\".format(i)\n",
    "        artist = (spotify.artist(SPOT_URI))['name'].upper()\n",
    "\n",
    "        results = spotify.artist_albums(SPOT_URI, album_type='album')\n",
    "        albums = results['items']\n",
    "    \n",
    "        while results['next']:\n",
    "            results = spotify.next(results)\n",
    "            albums.extend(results['items'])\n",
    "        \n",
    "        for album in albums:   \n",
    "            albumID = album['id']\n",
    "            albumName = album['name'].upper()\n",
    "            tracks = spotify.album_tracks(albumID)\n",
    "        \n",
    "            for track in tracks['items']:\n",
    "                trackName = track['name'].upper()\n",
    "                track_list.append({'Artist': artist, 'Album': albumName, 'Track': trackName, 'AlbumID': albumID})\n",
    "            \n",
    "    return(track_list)"
   ]
  },
  {
   "cell_type": "markdown",
   "metadata": {},
   "source": [
    "## GENIUS"
   ]
  },
  {
   "cell_type": "code",
   "execution_count": 7,
   "metadata": {
    "collapsed": true
   },
   "outputs": [],
   "source": [
    "def genius_info(GENIUS_ID):\n",
    "    \n",
    "    params = None\n",
    "    headers = None\n",
    "\n",
    "    #Set parameters\n",
    "    current_page = 1\n",
    "    next_page = True\n",
    "    songs = []\n",
    "\n",
    "    #parse through pages\n",
    "    while next_page:\n",
    "        params = {'page': current_page}\n",
    "        songPath = \"artists/{}/songs/\".format(GENIUS_ID)\n",
    "    \n",
    "     #Access Genius\n",
    "        url = '/'.join([GENIUS_URI, songPath])\n",
    "        token = \"Bearer {}\".format(GENIUS_TOKEN)\n",
    "    \n",
    "        if headers:\n",
    "             headers['Authorization'] = token\n",
    "        else:\n",
    "            headers = {\"Authorization\": token}\n",
    "    \n",
    "        response = requests.get(url=url, params=params, headers=headers)\n",
    "        response.raise_for_status()\n",
    "        parse = response.json()\n",
    "    \n",
    "        page_songs = parse['response']['songs']\n",
    "    \n",
    "        if page_songs:\n",
    "            songs += page_songs\n",
    "            current_page += 1\n",
    "        else:\n",
    "            next_page = False\n",
    "    \n",
    "        songs = [song for song in songs if song['primary_artist']['id'] == GENIUS_ID]\n",
    "\n",
    "    return(songs)"
   ]
  },
  {
   "cell_type": "code",
   "execution_count": 8,
   "metadata": {
    "collapsed": true
   },
   "outputs": [],
   "source": [
    "def scrape_lyrics(url):\n",
    "\n",
    "    response = requests.get(url)\n",
    "    html = response.text\n",
    "\n",
    "    soup = BeautifulSoup(html, 'html.parser')\n",
    "\n",
    "    lyrics = soup.find(name=\"lyrics\")\n",
    "    lyrics.script.decompose()\n",
    "\n",
    "    lyrics_text = \" / \".join([lyric for lyric in lyrics.stripped_strings])\n",
    "    return lyrics_text"
   ]
  },
  {
   "cell_type": "markdown",
   "metadata": {},
   "source": [
    "# DATA PULL"
   ]
  },
  {
   "cell_type": "code",
   "execution_count": 9,
   "metadata": {
    "collapsed": false
   },
   "outputs": [],
   "source": [
    "l = spotify_info()\n",
    "df = pd.DataFrame(l)"
   ]
  },
  {
   "cell_type": "code",
   "execution_count": 10,
   "metadata": {
    "collapsed": false
   },
   "outputs": [],
   "source": [
    "stops = set(stopwords.words('english'))\n",
    "stop = [st.upper() for st in stops]"
   ]
  },
  {
   "cell_type": "code",
   "execution_count": 11,
   "metadata": {
    "collapsed": false,
    "scrolled": true
   },
   "outputs": [],
   "source": [
    "genius_list = []\n",
    "for ID in geniusArtistID:\n",
    "    song_list = genius_info(ID)\n",
    "\n",
    "    for song in song_list:\n",
    "        artist = song['primary_artist']['name'].upper()\n",
    "        url = song['url'].upper()\n",
    "        trackName = song['title'].upper()\n",
    "        lyrics = scrape_lyrics(url)\n",
    "\n",
    "        all_lyrics = lyrics.upper().split()\n",
    "        clean = [item for item in all_lyrics if item not in stop and not item.isnumeric() and len(item) > 1]\n",
    "        \n",
    "        uniqueWords = set(clean)\n",
    "        uniqueCount = len(uniqueWords)\n",
    "        \n",
    "        genius_list.append({'Artist': artist, 'Track': trackName, 'Unique':uniqueCount})"
   ]
  },
  {
   "cell_type": "markdown",
   "metadata": {},
   "source": [
    "# DATAFRAME WRANGLIN'"
   ]
  },
  {
   "cell_type": "code",
   "execution_count": 12,
   "metadata": {
    "collapsed": true
   },
   "outputs": [],
   "source": [
    "#very non-elegant way to remove duplicate albums from the spotify dataset\n",
    "cols = ['Artist', 'Album', 'Track']\n",
    "\n",
    "df = df[(df['Album'] != 'RKIVES') & ( (df['AlbumID'] == '2f9RsTZpsYMLRVZBtW7En8') | (df['AlbumID'] == '4n36X2GMJ84BKh9D9zMRVI') | \n",
    "       (df['AlbumID'] == '0eKsZkBm5K4r0c9e8mKvBN') | (df['AlbumID'] == '5sCsfubNchaI9RCpP7K7aB') |          \n",
    "    (df['AlbumID'] == '7qri8zA09EXNsQU7eBgCae') | (df['AlbumID'] == '23EqcK0ZR1ravQaEsGpQyH') | \n",
    "    (df['AlbumID'] == '3Jw9BmwxnWu0kvPmBVtyxs') | (df['AlbumID'] == '2dMYD8cuBnC3jMNMlBVA1a')  )]\n",
    "\n",
    "spot = df[cols]"
   ]
  },
  {
   "cell_type": "markdown",
   "metadata": {},
   "source": [
    "### GENIUS FRAME"
   ]
  },
  {
   "cell_type": "code",
   "execution_count": 13,
   "metadata": {
    "collapsed": false
   },
   "outputs": [
    {
     "data": {
      "text/html": [
       "<div>\n",
       "<table border=\"1\" class=\"dataframe\">\n",
       "  <thead>\n",
       "    <tr style=\"text-align: right;\">\n",
       "      <th></th>\n",
       "      <th>Artist</th>\n",
       "      <th>Track</th>\n",
       "      <th>Unique</th>\n",
       "    </tr>\n",
       "  </thead>\n",
       "  <tbody>\n",
       "    <tr>\n",
       "      <th>134</th>\n",
       "      <td>JENNY AND JOHNNY</td>\n",
       "      <td>SLAVEDRIVER</td>\n",
       "      <td>55</td>\n",
       "    </tr>\n",
       "    <tr>\n",
       "      <th>135</th>\n",
       "      <td>JENNY AND JOHNNY</td>\n",
       "      <td>STRAIGHT EDGE OF THE BLADE</td>\n",
       "      <td>83</td>\n",
       "    </tr>\n",
       "    <tr>\n",
       "      <th>136</th>\n",
       "      <td>JENNY AND JOHNNY</td>\n",
       "      <td>SWITCHBLADE</td>\n",
       "      <td>43</td>\n",
       "    </tr>\n",
       "    <tr>\n",
       "      <th>137</th>\n",
       "      <td>JENNY AND JOHNNY</td>\n",
       "      <td>THE HIGHS AND LOWS OF BEING #1</td>\n",
       "      <td>73</td>\n",
       "    </tr>\n",
       "    <tr>\n",
       "      <th>138</th>\n",
       "      <td>JENNY AND JOHNNY</td>\n",
       "      <td>WHILE MEN ARE DREAMING</td>\n",
       "      <td>31</td>\n",
       "    </tr>\n",
       "  </tbody>\n",
       "</table>\n",
       "</div>"
      ],
      "text/plain": [
       "               Artist                           Track  Unique\n",
       "134  JENNY AND JOHNNY                     SLAVEDRIVER      55\n",
       "135  JENNY AND JOHNNY      STRAIGHT EDGE OF THE BLADE      83\n",
       "136  JENNY AND JOHNNY                     SWITCHBLADE      43\n",
       "137  JENNY AND JOHNNY  THE HIGHS AND LOWS OF BEING #1      73\n",
       "138  JENNY AND JOHNNY          WHILE MEN ARE DREAMING      31"
      ]
     },
     "execution_count": 13,
     "metadata": {},
     "output_type": "execute_result"
    }
   ],
   "source": [
    "#GENIUS DATAFRAME\n",
    "gen = pd.DataFrame(genius_list)\n",
    "gen.tail()"
   ]
  },
  {
   "cell_type": "markdown",
   "metadata": {},
   "source": [
    "### SPOTIFY FRAME"
   ]
  },
  {
   "cell_type": "code",
   "execution_count": 15,
   "metadata": {
    "collapsed": false
   },
   "outputs": [
    {
     "data": {
      "text/html": [
       "<div>\n",
       "<table border=\"1\" class=\"dataframe\">\n",
       "  <thead>\n",
       "    <tr style=\"text-align: right;\">\n",
       "      <th></th>\n",
       "      <th>Artist</th>\n",
       "      <th>Album</th>\n",
       "      <th>Track</th>\n",
       "    </tr>\n",
       "  </thead>\n",
       "  <tbody>\n",
       "    <tr>\n",
       "      <th>16</th>\n",
       "      <td>RILO KILEY</td>\n",
       "      <td>UNDER THE BLACKLIGHT (STANDARD VERSION)</td>\n",
       "      <td>SILVER LINING</td>\n",
       "    </tr>\n",
       "    <tr>\n",
       "      <th>17</th>\n",
       "      <td>RILO KILEY</td>\n",
       "      <td>UNDER THE BLACKLIGHT (STANDARD VERSION)</td>\n",
       "      <td>CLOSE CALL</td>\n",
       "    </tr>\n",
       "    <tr>\n",
       "      <th>18</th>\n",
       "      <td>RILO KILEY</td>\n",
       "      <td>UNDER THE BLACKLIGHT (STANDARD VERSION)</td>\n",
       "      <td>THE MONEYMAKER</td>\n",
       "    </tr>\n",
       "    <tr>\n",
       "      <th>19</th>\n",
       "      <td>RILO KILEY</td>\n",
       "      <td>UNDER THE BLACKLIGHT (STANDARD VERSION)</td>\n",
       "      <td>BREAKIN' UP</td>\n",
       "    </tr>\n",
       "    <tr>\n",
       "      <th>20</th>\n",
       "      <td>RILO KILEY</td>\n",
       "      <td>UNDER THE BLACKLIGHT (STANDARD VERSION)</td>\n",
       "      <td>UNDER THE BLACKLIGHT</td>\n",
       "    </tr>\n",
       "  </tbody>\n",
       "</table>\n",
       "</div>"
      ],
      "text/plain": [
       "        Artist                                    Album                 Track\n",
       "16  RILO KILEY  UNDER THE BLACKLIGHT (STANDARD VERSION)         SILVER LINING\n",
       "17  RILO KILEY  UNDER THE BLACKLIGHT (STANDARD VERSION)            CLOSE CALL\n",
       "18  RILO KILEY  UNDER THE BLACKLIGHT (STANDARD VERSION)        THE MONEYMAKER\n",
       "19  RILO KILEY  UNDER THE BLACKLIGHT (STANDARD VERSION)           BREAKIN' UP\n",
       "20  RILO KILEY  UNDER THE BLACKLIGHT (STANDARD VERSION)  UNDER THE BLACKLIGHT"
      ]
     },
     "execution_count": 15,
     "metadata": {},
     "output_type": "execute_result"
    }
   ],
   "source": [
    "#SPOTIFY DATAFRAME\n",
    "spot.head()"
   ]
  },
  {
   "cell_type": "markdown",
   "metadata": {},
   "source": [
    "### MERGED FRAME"
   ]
  },
  {
   "cell_type": "code",
   "execution_count": 37,
   "metadata": {
    "collapsed": false
   },
   "outputs": [
    {
     "data": {
      "text/html": [
       "<div>\n",
       "<table border=\"1\" class=\"dataframe\">\n",
       "  <thead>\n",
       "    <tr style=\"text-align: right;\">\n",
       "      <th></th>\n",
       "      <th>Artist_origin</th>\n",
       "      <th>Track</th>\n",
       "      <th>Unique</th>\n",
       "      <th>Artist_dest</th>\n",
       "      <th>Album</th>\n",
       "    </tr>\n",
       "  </thead>\n",
       "  <tbody>\n",
       "    <tr>\n",
       "      <th>0</th>\n",
       "      <td>RILO KILEY</td>\n",
       "      <td>15</td>\n",
       "      <td>70</td>\n",
       "      <td>RILO KILEY</td>\n",
       "      <td>UNDER THE BLACKLIGHT (STANDARD VERSION)</td>\n",
       "    </tr>\n",
       "    <tr>\n",
       "      <th>1</th>\n",
       "      <td>RILO KILEY</td>\n",
       "      <td>A BETTER SON/DAUGHTER</td>\n",
       "      <td>100</td>\n",
       "      <td>RILO KILEY</td>\n",
       "      <td>THE EXECUTION OF ALL THINGS</td>\n",
       "    </tr>\n",
       "    <tr>\n",
       "      <th>2</th>\n",
       "      <td>RILO KILEY</td>\n",
       "      <td>ACCIDNTEL DETH</td>\n",
       "      <td>117</td>\n",
       "      <td>RILO KILEY</td>\n",
       "      <td>MORE ADVENTUROUS (U.S. RELEASE)</td>\n",
       "    </tr>\n",
       "    <tr>\n",
       "      <th>3</th>\n",
       "      <td>RILO KILEY</td>\n",
       "      <td>ALWAYS</td>\n",
       "      <td>32</td>\n",
       "      <td>RILO KILEY</td>\n",
       "      <td>TAKE OFFS AND LANDINGS</td>\n",
       "    </tr>\n",
       "    <tr>\n",
       "      <th>4</th>\n",
       "      <td>RILO KILEY</td>\n",
       "      <td>A MAN/ME/THEN JIM</td>\n",
       "      <td>141</td>\n",
       "      <td>RILO KILEY</td>\n",
       "      <td>MORE ADVENTUROUS (U.S. RELEASE)</td>\n",
       "    </tr>\n",
       "  </tbody>\n",
       "</table>\n",
       "</div>"
      ],
      "text/plain": [
       "  Artist_origin                  Track  Unique Artist_dest  \\\n",
       "0    RILO KILEY                     15      70  RILO KILEY   \n",
       "1    RILO KILEY  A BETTER SON/DAUGHTER     100  RILO KILEY   \n",
       "2    RILO KILEY         ACCIDNTEL DETH     117  RILO KILEY   \n",
       "3    RILO KILEY                 ALWAYS      32  RILO KILEY   \n",
       "4    RILO KILEY      A MAN/ME/THEN JIM     141  RILO KILEY   \n",
       "\n",
       "                                     Album  \n",
       "0  UNDER THE BLACKLIGHT (STANDARD VERSION)  \n",
       "1              THE EXECUTION OF ALL THINGS  \n",
       "2          MORE ADVENTUROUS (U.S. RELEASE)  \n",
       "3                   TAKE OFFS AND LANDINGS  \n",
       "4          MORE ADVENTUROUS (U.S. RELEASE)  "
      ]
     },
     "execution_count": 37,
     "metadata": {},
     "output_type": "execute_result"
    }
   ],
   "source": [
    "div = pd.merge(gen, spot, how='inner', left_on='Track', right_on='Track', suffixes=['_origin', '_dest'])\n",
    "div.head()"
   ]
  },
  {
   "cell_type": "markdown",
   "metadata": {},
   "source": [
    "# PLOTS"
   ]
  },
  {
   "cell_type": "code",
   "execution_count": 41,
   "metadata": {
    "collapsed": false
   },
   "outputs": [
    {
     "data": {
      "text/plain": [
       "<matplotlib.axes._subplots.AxesSubplot at 0x26dff3476a0>"
      ]
     },
     "execution_count": 41,
     "metadata": {},
     "output_type": "execute_result"
    },
    {
     "data": {
      "image/png": "[encoded data removed]",
      "text/plain": [
       "<matplotlib.figure.Figure at 0x26dfef81198>"
      ]
     },
     "metadata": {},
     "output_type": "display_data"
    }
   ],
   "source": [
    "var = div.groupby('Album').Unique.mean().reset_index()\n",
    "\n",
    "Albums = ['TAKE OFFS AND LANDINGS', 'THE EXECUTION OF ALL THINGS', 'MORE ADVENTUROUS (U.S. RELEASE)', \n",
    "            'RABBIT FUR COAT', 'UNDER THE BLACKLIGHT (STANDARD VERSION)', 'ACID TONGUE',  \"I'M HAVING FUN NOW\", 'THE VOYAGER']\n",
    "\n",
    "mapping = {Album: i for i, Album in enumerate(Albums)}\n",
    "key = var['Album'].map(mapping)    \n",
    "var = var.iloc[key.argsort()]\n",
    "\n",
    "var.plot(kind='bar', x='Album')"
   ]
  },
  {
   "cell_type": "code",
   "execution_count": null,
   "metadata": {
    "collapsed": true
   },
   "outputs": [],
   "source": []
  }
 ],
 "metadata": {
  "anaconda-cloud": {},
  "kernelspec": {
   "display_name": "Python [Root]",
   "language": "python",
   "name": "Python [Root]"
  },
  "language_info": {
   "codemirror_mode": {
    "name": "ipython",
    "version": 3
   },
   "file_extension": ".py",
   "mimetype": "text/x-python",
   "name": "python",
   "nbconvert_exporter": "python",
   "pygments_lexer": "ipython3",
   "version": "3.5.2"
  }
 },
 "nbformat": 4,
 "nbformat_minor": 0
}
